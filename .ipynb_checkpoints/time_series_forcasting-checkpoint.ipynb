{
 "cells": [
  {
   "cell_type": "code",
   "execution_count": 23,
   "id": "5b26f5b4-8acc-4cc6-a557-8c823c9157ed",
   "metadata": {},
   "outputs": [
    {
     "data": {
      "text/plain": [
       "'arn:aws:iam::584910123950:role/AmazonSageMaker-ExecutionRole'"
      ]
     },
     "execution_count": 23,
     "metadata": {},
     "output_type": "execute_result"
    }
   ],
   "source": [
    "import boto3\n",
    "from sagemaker import get_execution_role\n",
    "\n",
    "sm_client = boto3.client(service_name='sagemaker')\n",
    "runtime_sm_client = boto3.client(service_name='sagemaker-runtime')\n",
    "\n",
    "account_id = boto3.client('sts').get_caller_identity()['Account']\n",
    "region = boto3.Session().region_name\n",
    "\n",
    "#used to store model artifacts which SageMaker will extract to /opt/ml/model in the container, \n",
    "#in this example case we will not be making use of S3 to store the model artifacts\n",
    "#s3_bucket = '<S3Bucket>'\n",
    "\n",
    "role = get_execution_role()\n",
    "role"
   ]
  },
  {
   "cell_type": "code",
   "execution_count": 31,
   "id": "6381239a-cdb3-4877-bb93-402cc3775941",
   "metadata": {},
   "outputs": [
    {
     "name": "stdout",
     "output_type": "stream",
     "text": [
      "Model name: spacy-nermodel-2024-09-09-19-47-45\n",
      "Container image: 584910123950.dkr.ecr.us-east-1.amazonaws.com/sm-pretrained-spacy:latest\n",
      "Model Arn: arn:aws:sagemaker:us-east-1:584910123950:model/spacy-nermodel-2024-09-09-19-47-45\n"
     ]
    }
   ],
   "source": [
    "from time import gmtime, strftime\n",
    "\n",
    "model_name = 'spacy-nermodel-' + strftime(\"%Y-%m-%d-%H-%M-%S\", gmtime())\n",
    "# MODEL S3 URL containing model atrifacts as either model.tar.gz or extracted artifacts. \n",
    "# Here we are not  \n",
    "#model_url = 's3://{}/spacy/'.format(s3_bucket) \n",
    "\n",
    "container = '{}.dkr.ecr.{}.amazonaws.com/sm-pretrained-spacy:latest'.format(account_id, region) \n",
    "instance_type = 'ml.m5.24xlarge'\n",
    "\n",
    "print('Model name: ' + model_name)\n",
    "#print('Model data Url: ' + model_url)\n",
    "print('Container image: ' + container)\n",
    "\n",
    "container = {\n",
    "'Image': container\n",
    "}\n",
    "\n",
    "create_model_response = sm_client.create_model(\n",
    "    ModelName = model_name,\n",
    "    ExecutionRoleArn = role,\n",
    "    Containers = [container])\n",
    "\n",
    "print(\"Model Arn: \" + create_model_response['ModelArn'])"
   ]
  },
  {
   "cell_type": "code",
   "execution_count": 32,
   "id": "729d7f5d-593c-4fc0-b323-c8f8ffd99d94",
   "metadata": {},
   "outputs": [
    {
     "name": "stdout",
     "output_type": "stream",
     "text": [
      "Endpoint config name: spacy-ner-config2024-09-09-19-47-46\n",
      "Endpoint config Arn: arn:aws:sagemaker:us-east-1:584910123950:endpoint-config/spacy-ner-config2024-09-09-19-47-46\n"
     ]
    }
   ],
   "source": [
    "endpoint_config_name = 'spacy-ner-config' + strftime(\"%Y-%m-%d-%H-%M-%S\", gmtime())\n",
    "print('Endpoint config name: ' + endpoint_config_name)\n",
    "\n",
    "create_endpoint_config_response = sm_client.create_endpoint_config(\n",
    "    EndpointConfigName = endpoint_config_name,\n",
    "    ProductionVariants=[{\n",
    "        'InstanceType': instance_type,\n",
    "        'InitialInstanceCount': 1,\n",
    "        'InitialVariantWeight': 1,\n",
    "        'ModelName': model_name,\n",
    "        'VariantName': 'AllTraffic'}])\n",
    "        \n",
    "print(\"Endpoint config Arn: \" + create_endpoint_config_response['EndpointConfigArn'])"
   ]
  },
  {
   "cell_type": "code",
   "execution_count": 33,
   "id": "d4ac87ec-fe1d-4d8c-8662-64494fa95fcd",
   "metadata": {},
   "outputs": [
    {
     "name": "stdout",
     "output_type": "stream",
     "text": [
      "Endpoint name: spacy-ner-endpoint2024-09-09-19-47-50\n",
      "Endpoint Arn: arn:aws:sagemaker:us-east-1:584910123950:endpoint/spacy-ner-endpoint2024-09-09-19-47-50\n",
      "Endpoint Status: Creating\n",
      "Waiting for spacy-ner-endpoint2024-09-09-19-47-50 endpoint to be in service...\n",
      "CPU times: user 35.4 ms, sys: 1.13 ms, total: 36.5 ms\n",
      "Wall time: 2min 31s\n"
     ]
    }
   ],
   "source": [
    "%%time\n",
    "\n",
    "import time\n",
    "\n",
    "#endpoint_name = 'flan-t5-endpoint' + strftime(\"%Y-%m-%d-%H-%M-%S\", gmtime())\n",
    "endpoint_name = 'spacy-ner-endpoint' + strftime(\"%Y-%m-%d-%H-%M-%S\", gmtime())\n",
    "print('Endpoint name: ' + endpoint_name)\n",
    "\n",
    "create_endpoint_response = sm_client.create_endpoint(\n",
    "    EndpointName=endpoint_name,\n",
    "    EndpointConfigName=endpoint_config_name)\n",
    "print('Endpoint Arn: ' + create_endpoint_response['EndpointArn'])\n",
    "\n",
    "resp = sm_client.describe_endpoint(EndpointName=endpoint_name)\n",
    "status = resp['EndpointStatus']\n",
    "print(\"Endpoint Status: \" + status)\n",
    "\n",
    "print('Waiting for {} endpoint to be in service...'.format(endpoint_name))\n",
    "waiter = sm_client.get_waiter('endpoint_in_service')\n",
    "waiter.wait(EndpointName=endpoint_name)\n"
   ]
  },
  {
   "cell_type": "code",
   "execution_count": 34,
   "id": "a3047cd2-fa24-4ac2-b8cf-bbf1c328c7c4",
   "metadata": {},
   "outputs": [
    {
     "data": {
      "text/plain": [
       "[['NER', 'ORG'],\n",
       " ['America', 'GPE'],\n",
       " ['Amazon', 'ORG'],\n",
       " ['Microsoft', 'ORG'],\n",
       " ['Seattle', 'GPE']]"
      ]
     },
     "execution_count": 34,
     "metadata": {},
     "output_type": "execute_result"
    }
   ],
   "source": [
    "import json\n",
    "content_type = \"application/json\"\n",
    "request_body = {\"input\": \"This is a test with NER in America with \\\n",
    "    Amazon and Microsoft in Seattle, writing random stuff.\"}\n",
    "\n",
    "#Serialize data for endpoint\n",
    "#data = json.loads(json.dumps(request_body))\n",
    "payload = json.dumps(request_body)\n",
    "\n",
    "#Endpoint invocation\n",
    "response = runtime_sm_client.invoke_endpoint(\n",
    "EndpointName=endpoint_name,\n",
    "ContentType=content_type,\n",
    "Body=payload)\n",
    "\n",
    "#Parse results\n",
    "result = json.loads(response['Body'].read().decode())['output']\n",
    "result"
   ]
  },
  {
   "cell_type": "code",
   "execution_count": 6,
   "id": "87eb9b6f-e75c-41d7-ba69-4ebc79525ae2",
   "metadata": {},
   "outputs": [
    {
     "data": {
      "text/plain": [
       "{'ResponseMetadata': {'RequestId': '679db93e-751c-4d23-9509-dc451dcda962',\n",
       "  'HTTPStatusCode': 200,\n",
       "  'HTTPHeaders': {'x-amzn-requestid': '679db93e-751c-4d23-9509-dc451dcda962',\n",
       "   'content-type': 'application/x-amz-json-1.1',\n",
       "   'date': 'Mon, 09 Sep 2024 17:19:29 GMT',\n",
       "   'content-length': '0'},\n",
       "  'RetryAttempts': 0}}"
      ]
     },
     "execution_count": 6,
     "metadata": {},
     "output_type": "execute_result"
    }
   ],
   "source": [
    "sm_client.delete_endpoint(EndpointName=endpoint_name)\n",
    "sm_client.delete_endpoint_config(EndpointConfigName=endpoint_config_name)\n",
    "sm_client.delete_model(ModelName=model_name)"
   ]
  },
  {
   "cell_type": "code",
   "execution_count": null,
   "id": "afb5a39d-b97e-4211-adfb-aa9405078dfe",
   "metadata": {},
   "outputs": [],
   "source": []
  }
 ],
 "metadata": {
  "kernelspec": {
   "display_name": "Python 3 (ipykernel)",
   "language": "python",
   "name": "python3"
  },
  "language_info": {
   "codemirror_mode": {
    "name": "ipython",
    "version": 3
   },
   "file_extension": ".py",
   "mimetype": "text/x-python",
   "name": "python",
   "nbconvert_exporter": "python",
   "pygments_lexer": "ipython3",
   "version": "3.10.14"
  }
 },
 "nbformat": 4,
 "nbformat_minor": 5
}
